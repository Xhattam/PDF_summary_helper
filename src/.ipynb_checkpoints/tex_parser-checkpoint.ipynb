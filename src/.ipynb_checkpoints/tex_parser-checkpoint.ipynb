{
 "cells": [
  {
   "cell_type": "code",
   "execution_count": 1,
   "metadata": {},
   "outputs": [],
   "source": [
    "import re\n",
    "import sys"
   ]
  },
  {
   "cell_type": "code",
   "execution_count": 13,
   "metadata": {},
   "outputs": [],
   "source": [
    "section_specific = {\n",
    "    \"figure\" : r'(\\\\begin{(?P<sec>figure\\*{0,1}|itemize|equation|table)}.*\\\\end\\{(?P=sec)})',\n",
    "}"
   ]
  },
  {
   "cell_type": "code",
   "execution_count": 20,
   "metadata": {},
   "outputs": [],
   "source": [
    "def parse(tex_file):\n",
    "    res = []\n",
    "    try:\n",
    "        unparsed = open(tex_file, 'r').read()\n",
    "    except IOError as ioerr:\n",
    "        sys.exit(\"Cannot open tex file\")\n",
    "        \n",
    "    sections = split_sections(unparsed)\n",
    "    header = sections[0]\n",
    "    res.append(header)\n",
    "    for s in sections:\n",
    "        if s != []:\n",
    "            r1 = re.findall(r'\\\\section{.*}', s)\n",
    "            if (r1 != []):\n",
    "                res.append(r1[0])\n",
    "            spec = re.findall(section_specific[\"figure\"], s, re.S)\n",
    "            for r in spec:\n",
    "                res.append(r[0])\n",
    "    res.append(\"\\end{document}\")\n",
    "    return \"\\n\\n\".join(res)"
   ]
  },
  {
   "cell_type": "code",
   "execution_count": 40,
   "metadata": {},
   "outputs": [],
   "source": [
    "def split_sections(content):\n",
    "    return re.split(r'(\\\\section{.*})', content)"
   ]
  },
  {
   "cell_type": "code",
   "execution_count": 41,
   "metadata": {},
   "outputs": [],
   "source": [
    "def main(tex_file):\n",
    "    return parse(tex_file)"
   ]
  },
  {
   "cell_type": "code",
   "execution_count": 42,
   "metadata": {},
   "outputs": [],
   "source": [
    "def extract_specific_section():\n",
    "    pass"
   ]
  },
  {
   "cell_type": "code",
   "execution_count": 43,
   "metadata": {},
   "outputs": [],
   "source": [
    "res = main(\"/home/jessica/Python_Code/PaperHelper/test/resources/ex1_original.tex\")"
   ]
  },
  {
   "cell_type": "code",
   "execution_count": 44,
   "metadata": {},
   "outputs": [],
   "source": [
    "with open(\"/home/jessica/Python_Code/PaperHelper/test/resources/test_exp_ex1.tex\", 'w') as o:\n",
    "    o.write(res)"
   ]
  },
  {
   "cell_type": "code",
   "execution_count": null,
   "metadata": {},
   "outputs": [],
   "source": []
  }
 ],
 "metadata": {
  "kernelspec": {
   "display_name": "Python 3",
   "language": "python",
   "name": "python3"
  },
  "language_info": {
   "codemirror_mode": {
    "name": "ipython",
    "version": 3
   },
   "file_extension": ".py",
   "mimetype": "text/x-python",
   "name": "python",
   "nbconvert_exporter": "python",
   "pygments_lexer": "ipython3",
   "version": "3.6.7"
  }
 },
 "nbformat": 4,
 "nbformat_minor": 1
}
