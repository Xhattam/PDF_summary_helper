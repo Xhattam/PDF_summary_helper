{
 "cells": [
  {
   "cell_type": "code",
   "execution_count": 480,
   "metadata": {},
   "outputs": [],
   "source": [
    "import re"
   ]
  },
  {
   "cell_type": "code",
   "execution_count": 518,
   "metadata": {},
   "outputs": [],
   "source": [
    "def get_sections(text):\n",
    "     return re.finditer(r\"\\\\(?:sub)*section{.*}\", text)"
   ]
  },
  {
   "cell_type": "code",
   "execution_count": 519,
   "metadata": {},
   "outputs": [],
   "source": [
    "def get_figure(text):\n",
    "    return re.finditer(r'((?<!\\\\begin{comment})\\s\\\\begin{(?P<sec>(?:figure\\*{0,1}|itemize|equation|table|enumerate))}(?:.*?)\\\\end{(?P=sec)})', text, re.S)"
   ]
  },
  {
   "cell_type": "code",
   "execution_count": 523,
   "metadata": {},
   "outputs": [],
   "source": [
    "def get_all(text):\n",
    "    sections = re.split(r'(\\\\section{.*})', text)\n",
    "    header = sections[0]\n",
    "    result = [(0, header)]\n",
    "    for e in get_figure(test1):\n",
    "        result.append((e.start(), e.group()))\n",
    "    for e in get_sections(test1):\n",
    "        result.append((e.start(), e.group()))\n",
    "    result.sort()\n",
    "    return \"\\n\\n\".join(e[1] for e in result) + \"\\n\\n\\end{document}\""
   ]
  },
  {
   "cell_type": "code",
   "execution_count": 524,
   "metadata": {},
   "outputs": [],
   "source": [
    "test1 = open(\"/home/jessica/Python_Code/PaperHelper/test/resources/ex1_original.tex\", 'r').read()"
   ]
  },
  {
   "cell_type": "code",
   "execution_count": 525,
   "metadata": {},
   "outputs": [],
   "source": [
    "with open(\"/home/jessica/Python_Code/PaperHelper/test/resources/test_exp_ex1.tex\", 'w') as o:\n",
    "    o.write(get_all(test1))"
   ]
  },
  {
   "cell_type": "code",
   "execution_count": null,
   "metadata": {},
   "outputs": [],
   "source": []
  }
 ],
 "metadata": {
  "kernelspec": {
   "display_name": "Python 3",
   "language": "python",
   "name": "python3"
  },
  "language_info": {
   "codemirror_mode": {
    "name": "ipython",
    "version": 3
   },
   "file_extension": ".py",
   "mimetype": "text/x-python",
   "name": "python",
   "nbconvert_exporter": "python",
   "pygments_lexer": "ipython3",
   "version": "3.6.7"
  }
 },
 "nbformat": 4,
 "nbformat_minor": 2
}
